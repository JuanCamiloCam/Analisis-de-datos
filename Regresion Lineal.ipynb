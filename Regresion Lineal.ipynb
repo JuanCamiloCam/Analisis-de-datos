{
 "cells": [
  {
   "cell_type": "markdown",
   "id": "f1d59352-4d2d-4e52-9e3c-44b15d66a5e4",
   "metadata": {},
   "source": [
    "## 1. Realizar un análisis exploratorio de los datos para identificar relaciones entre variables, valores atípicos, tendencias, etc."
   ]
  },
  {
   "cell_type": "code",
   "execution_count": 66,
   "id": "00c6101a-6427-49c9-bcb8-13ea51751dbf",
   "metadata": {},
   "outputs": [],
   "source": [
    "#Cargar las librerias necesarias\n",
    "\n",
    "import pandas as pd # Manejo y análisis de estructuras de datos\n",
    "import numpy as np # Cálculo numérico y el análisis de datos\n",
    "import seaborn as sns # Creación gráficos estadísticos\n",
    "import matplotlib.pyplot as plt # Creación de gráficos en dos dimensiones\n",
    "import seaborn as sns\n",
    "import matplotlib.pyplot as plt\n",
    "\n",
    "# librerías de para implementar modelos de ciencia de datos\n",
    "from sklearn import metrics\n",
    "from sklearn.model_selection import train_test_split\n",
    "from sklearn.linear_model import LogisticRegression\n",
    "from sklearn.metrics import classification_report, confusion_matrix\n",
    "from sklearn.feature_selection import SelectKBest, f_regression\n",
    "from sklearn.linear_model import LinearRegression\n",
    "from sklearn.metrics import mean_absolute_error, mean_squared_error, r2_score"
   ]
  },
  {
   "cell_type": "code",
   "execution_count": 9,
   "id": "0897b5a6-a956-4878-8eee-987e48879699",
   "metadata": {},
   "outputs": [],
   "source": [
    "# lectura de datos en Python y lo cargamos en la variable Datos\n",
    "\n",
    "Datos = pd.read_csv('E:/Nextcloud/Universidad/Analisis de datos/Tarea 3/Dataset Regresion lineal/archive/CAR DETAILS FROM CAR DEKHO.csv')"
   ]
  },
  {
   "cell_type": "code",
   "execution_count": 12,
   "id": "5b5e81c9-f08d-4023-8ec1-306cd0f103c2",
   "metadata": {},
   "outputs": [
    {
     "data": {
      "text/html": [
       "<div>\n",
       "<style scoped>\n",
       "    .dataframe tbody tr th:only-of-type {\n",
       "        vertical-align: middle;\n",
       "    }\n",
       "\n",
       "    .dataframe tbody tr th {\n",
       "        vertical-align: top;\n",
       "    }\n",
       "\n",
       "    .dataframe thead th {\n",
       "        text-align: right;\n",
       "    }\n",
       "</style>\n",
       "<table border=\"1\" class=\"dataframe\">\n",
       "  <thead>\n",
       "    <tr style=\"text-align: right;\">\n",
       "      <th></th>\n",
       "      <th>name</th>\n",
       "      <th>year</th>\n",
       "      <th>selling_price</th>\n",
       "      <th>km_driven</th>\n",
       "      <th>fuel</th>\n",
       "      <th>seller_type</th>\n",
       "      <th>transmission</th>\n",
       "      <th>owner</th>\n",
       "    </tr>\n",
       "  </thead>\n",
       "  <tbody>\n",
       "    <tr>\n",
       "      <th>0</th>\n",
       "      <td>Maruti 800 AC</td>\n",
       "      <td>2007</td>\n",
       "      <td>60000</td>\n",
       "      <td>70000</td>\n",
       "      <td>Petrol</td>\n",
       "      <td>Individual</td>\n",
       "      <td>Manual</td>\n",
       "      <td>First Owner</td>\n",
       "    </tr>\n",
       "    <tr>\n",
       "      <th>1</th>\n",
       "      <td>Maruti Wagon R LXI Minor</td>\n",
       "      <td>2007</td>\n",
       "      <td>135000</td>\n",
       "      <td>50000</td>\n",
       "      <td>Petrol</td>\n",
       "      <td>Individual</td>\n",
       "      <td>Manual</td>\n",
       "      <td>First Owner</td>\n",
       "    </tr>\n",
       "    <tr>\n",
       "      <th>2</th>\n",
       "      <td>Hyundai Verna 1.6 SX</td>\n",
       "      <td>2012</td>\n",
       "      <td>600000</td>\n",
       "      <td>100000</td>\n",
       "      <td>Diesel</td>\n",
       "      <td>Individual</td>\n",
       "      <td>Manual</td>\n",
       "      <td>First Owner</td>\n",
       "    </tr>\n",
       "    <tr>\n",
       "      <th>3</th>\n",
       "      <td>Datsun RediGO T Option</td>\n",
       "      <td>2017</td>\n",
       "      <td>250000</td>\n",
       "      <td>46000</td>\n",
       "      <td>Petrol</td>\n",
       "      <td>Individual</td>\n",
       "      <td>Manual</td>\n",
       "      <td>First Owner</td>\n",
       "    </tr>\n",
       "    <tr>\n",
       "      <th>4</th>\n",
       "      <td>Honda Amaze VX i-DTEC</td>\n",
       "      <td>2014</td>\n",
       "      <td>450000</td>\n",
       "      <td>141000</td>\n",
       "      <td>Diesel</td>\n",
       "      <td>Individual</td>\n",
       "      <td>Manual</td>\n",
       "      <td>Second Owner</td>\n",
       "    </tr>\n",
       "    <tr>\n",
       "      <th>5</th>\n",
       "      <td>Maruti Alto LX BSIII</td>\n",
       "      <td>2007</td>\n",
       "      <td>140000</td>\n",
       "      <td>125000</td>\n",
       "      <td>Petrol</td>\n",
       "      <td>Individual</td>\n",
       "      <td>Manual</td>\n",
       "      <td>First Owner</td>\n",
       "    </tr>\n",
       "    <tr>\n",
       "      <th>6</th>\n",
       "      <td>Hyundai Xcent 1.2 Kappa S</td>\n",
       "      <td>2016</td>\n",
       "      <td>550000</td>\n",
       "      <td>25000</td>\n",
       "      <td>Petrol</td>\n",
       "      <td>Individual</td>\n",
       "      <td>Manual</td>\n",
       "      <td>First Owner</td>\n",
       "    </tr>\n",
       "    <tr>\n",
       "      <th>7</th>\n",
       "      <td>Tata Indigo Grand Petrol</td>\n",
       "      <td>2014</td>\n",
       "      <td>240000</td>\n",
       "      <td>60000</td>\n",
       "      <td>Petrol</td>\n",
       "      <td>Individual</td>\n",
       "      <td>Manual</td>\n",
       "      <td>Second Owner</td>\n",
       "    </tr>\n",
       "    <tr>\n",
       "      <th>8</th>\n",
       "      <td>Hyundai Creta 1.6 VTVT S</td>\n",
       "      <td>2015</td>\n",
       "      <td>850000</td>\n",
       "      <td>25000</td>\n",
       "      <td>Petrol</td>\n",
       "      <td>Individual</td>\n",
       "      <td>Manual</td>\n",
       "      <td>First Owner</td>\n",
       "    </tr>\n",
       "    <tr>\n",
       "      <th>9</th>\n",
       "      <td>Maruti Celerio Green VXI</td>\n",
       "      <td>2017</td>\n",
       "      <td>365000</td>\n",
       "      <td>78000</td>\n",
       "      <td>CNG</td>\n",
       "      <td>Individual</td>\n",
       "      <td>Manual</td>\n",
       "      <td>First Owner</td>\n",
       "    </tr>\n",
       "    <tr>\n",
       "      <th>10</th>\n",
       "      <td>Chevrolet Sail 1.2 Base</td>\n",
       "      <td>2015</td>\n",
       "      <td>260000</td>\n",
       "      <td>35000</td>\n",
       "      <td>Petrol</td>\n",
       "      <td>Individual</td>\n",
       "      <td>Manual</td>\n",
       "      <td>First Owner</td>\n",
       "    </tr>\n",
       "    <tr>\n",
       "      <th>11</th>\n",
       "      <td>Tata Indigo Grand Petrol</td>\n",
       "      <td>2014</td>\n",
       "      <td>250000</td>\n",
       "      <td>100000</td>\n",
       "      <td>Petrol</td>\n",
       "      <td>Individual</td>\n",
       "      <td>Manual</td>\n",
       "      <td>First Owner</td>\n",
       "    </tr>\n",
       "    <tr>\n",
       "      <th>12</th>\n",
       "      <td>Toyota Corolla Altis 1.8 VL CVT</td>\n",
       "      <td>2018</td>\n",
       "      <td>1650000</td>\n",
       "      <td>25000</td>\n",
       "      <td>Petrol</td>\n",
       "      <td>Dealer</td>\n",
       "      <td>Automatic</td>\n",
       "      <td>First Owner</td>\n",
       "    </tr>\n",
       "    <tr>\n",
       "      <th>13</th>\n",
       "      <td>Maruti 800 AC</td>\n",
       "      <td>2007</td>\n",
       "      <td>60000</td>\n",
       "      <td>70000</td>\n",
       "      <td>Petrol</td>\n",
       "      <td>Individual</td>\n",
       "      <td>Manual</td>\n",
       "      <td>First Owner</td>\n",
       "    </tr>\n",
       "    <tr>\n",
       "      <th>14</th>\n",
       "      <td>Maruti Wagon R LXI Minor</td>\n",
       "      <td>2007</td>\n",
       "      <td>135000</td>\n",
       "      <td>50000</td>\n",
       "      <td>Petrol</td>\n",
       "      <td>Individual</td>\n",
       "      <td>Manual</td>\n",
       "      <td>First Owner</td>\n",
       "    </tr>\n",
       "    <tr>\n",
       "      <th>15</th>\n",
       "      <td>Hyundai Verna 1.6 SX</td>\n",
       "      <td>2012</td>\n",
       "      <td>600000</td>\n",
       "      <td>100000</td>\n",
       "      <td>Diesel</td>\n",
       "      <td>Individual</td>\n",
       "      <td>Manual</td>\n",
       "      <td>First Owner</td>\n",
       "    </tr>\n",
       "    <tr>\n",
       "      <th>16</th>\n",
       "      <td>Datsun RediGO T Option</td>\n",
       "      <td>2017</td>\n",
       "      <td>250000</td>\n",
       "      <td>46000</td>\n",
       "      <td>Petrol</td>\n",
       "      <td>Individual</td>\n",
       "      <td>Manual</td>\n",
       "      <td>First Owner</td>\n",
       "    </tr>\n",
       "    <tr>\n",
       "      <th>17</th>\n",
       "      <td>Honda Amaze VX i-DTEC</td>\n",
       "      <td>2014</td>\n",
       "      <td>450000</td>\n",
       "      <td>141000</td>\n",
       "      <td>Diesel</td>\n",
       "      <td>Individual</td>\n",
       "      <td>Manual</td>\n",
       "      <td>Second Owner</td>\n",
       "    </tr>\n",
       "    <tr>\n",
       "      <th>18</th>\n",
       "      <td>Maruti Alto LX BSIII</td>\n",
       "      <td>2007</td>\n",
       "      <td>140000</td>\n",
       "      <td>125000</td>\n",
       "      <td>Petrol</td>\n",
       "      <td>Individual</td>\n",
       "      <td>Manual</td>\n",
       "      <td>First Owner</td>\n",
       "    </tr>\n",
       "    <tr>\n",
       "      <th>19</th>\n",
       "      <td>Hyundai Xcent 1.2 Kappa S</td>\n",
       "      <td>2016</td>\n",
       "      <td>550000</td>\n",
       "      <td>25000</td>\n",
       "      <td>Petrol</td>\n",
       "      <td>Individual</td>\n",
       "      <td>Manual</td>\n",
       "      <td>First Owner</td>\n",
       "    </tr>\n",
       "  </tbody>\n",
       "</table>\n",
       "</div>"
      ],
      "text/plain": [
       "                               name  year  selling_price  km_driven    fuel  \\\n",
       "0                     Maruti 800 AC  2007          60000      70000  Petrol   \n",
       "1          Maruti Wagon R LXI Minor  2007         135000      50000  Petrol   \n",
       "2              Hyundai Verna 1.6 SX  2012         600000     100000  Diesel   \n",
       "3            Datsun RediGO T Option  2017         250000      46000  Petrol   \n",
       "4             Honda Amaze VX i-DTEC  2014         450000     141000  Diesel   \n",
       "5              Maruti Alto LX BSIII  2007         140000     125000  Petrol   \n",
       "6         Hyundai Xcent 1.2 Kappa S  2016         550000      25000  Petrol   \n",
       "7          Tata Indigo Grand Petrol  2014         240000      60000  Petrol   \n",
       "8          Hyundai Creta 1.6 VTVT S  2015         850000      25000  Petrol   \n",
       "9          Maruti Celerio Green VXI  2017         365000      78000     CNG   \n",
       "10          Chevrolet Sail 1.2 Base  2015         260000      35000  Petrol   \n",
       "11         Tata Indigo Grand Petrol  2014         250000     100000  Petrol   \n",
       "12  Toyota Corolla Altis 1.8 VL CVT  2018        1650000      25000  Petrol   \n",
       "13                    Maruti 800 AC  2007          60000      70000  Petrol   \n",
       "14         Maruti Wagon R LXI Minor  2007         135000      50000  Petrol   \n",
       "15             Hyundai Verna 1.6 SX  2012         600000     100000  Diesel   \n",
       "16           Datsun RediGO T Option  2017         250000      46000  Petrol   \n",
       "17            Honda Amaze VX i-DTEC  2014         450000     141000  Diesel   \n",
       "18             Maruti Alto LX BSIII  2007         140000     125000  Petrol   \n",
       "19        Hyundai Xcent 1.2 Kappa S  2016         550000      25000  Petrol   \n",
       "\n",
       "   seller_type transmission         owner  \n",
       "0   Individual       Manual   First Owner  \n",
       "1   Individual       Manual   First Owner  \n",
       "2   Individual       Manual   First Owner  \n",
       "3   Individual       Manual   First Owner  \n",
       "4   Individual       Manual  Second Owner  \n",
       "5   Individual       Manual   First Owner  \n",
       "6   Individual       Manual   First Owner  \n",
       "7   Individual       Manual  Second Owner  \n",
       "8   Individual       Manual   First Owner  \n",
       "9   Individual       Manual   First Owner  \n",
       "10  Individual       Manual   First Owner  \n",
       "11  Individual       Manual   First Owner  \n",
       "12      Dealer    Automatic   First Owner  \n",
       "13  Individual       Manual   First Owner  \n",
       "14  Individual       Manual   First Owner  \n",
       "15  Individual       Manual   First Owner  \n",
       "16  Individual       Manual   First Owner  \n",
       "17  Individual       Manual  Second Owner  \n",
       "18  Individual       Manual   First Owner  \n",
       "19  Individual       Manual   First Owner  "
      ]
     },
     "execution_count": 12,
     "metadata": {},
     "output_type": "execute_result"
    }
   ],
   "source": [
    "# Realizamos lectura de los Datos para el análisis exploratorio\n",
    "\n",
    "Datos.head(20)"
   ]
  },
  {
   "cell_type": "code",
   "execution_count": 14,
   "id": "b84c28ab-4927-4408-bc1d-b958dfba3651",
   "metadata": {},
   "outputs": [
    {
     "data": {
      "text/html": [
       "<div>\n",
       "<style scoped>\n",
       "    .dataframe tbody tr th:only-of-type {\n",
       "        vertical-align: middle;\n",
       "    }\n",
       "\n",
       "    .dataframe tbody tr th {\n",
       "        vertical-align: top;\n",
       "    }\n",
       "\n",
       "    .dataframe thead th {\n",
       "        text-align: right;\n",
       "    }\n",
       "</style>\n",
       "<table border=\"1\" class=\"dataframe\">\n",
       "  <thead>\n",
       "    <tr style=\"text-align: right;\">\n",
       "      <th></th>\n",
       "      <th>year</th>\n",
       "      <th>selling_price</th>\n",
       "      <th>km_driven</th>\n",
       "    </tr>\n",
       "  </thead>\n",
       "  <tbody>\n",
       "    <tr>\n",
       "      <th>count</th>\n",
       "      <td>4340.000000</td>\n",
       "      <td>4.340000e+03</td>\n",
       "      <td>4340.000000</td>\n",
       "    </tr>\n",
       "    <tr>\n",
       "      <th>mean</th>\n",
       "      <td>2013.090783</td>\n",
       "      <td>5.041273e+05</td>\n",
       "      <td>66215.777419</td>\n",
       "    </tr>\n",
       "    <tr>\n",
       "      <th>std</th>\n",
       "      <td>4.215344</td>\n",
       "      <td>5.785487e+05</td>\n",
       "      <td>46644.102194</td>\n",
       "    </tr>\n",
       "    <tr>\n",
       "      <th>min</th>\n",
       "      <td>1992.000000</td>\n",
       "      <td>2.000000e+04</td>\n",
       "      <td>1.000000</td>\n",
       "    </tr>\n",
       "    <tr>\n",
       "      <th>25%</th>\n",
       "      <td>2011.000000</td>\n",
       "      <td>2.087498e+05</td>\n",
       "      <td>35000.000000</td>\n",
       "    </tr>\n",
       "    <tr>\n",
       "      <th>50%</th>\n",
       "      <td>2014.000000</td>\n",
       "      <td>3.500000e+05</td>\n",
       "      <td>60000.000000</td>\n",
       "    </tr>\n",
       "    <tr>\n",
       "      <th>75%</th>\n",
       "      <td>2016.000000</td>\n",
       "      <td>6.000000e+05</td>\n",
       "      <td>90000.000000</td>\n",
       "    </tr>\n",
       "    <tr>\n",
       "      <th>max</th>\n",
       "      <td>2020.000000</td>\n",
       "      <td>8.900000e+06</td>\n",
       "      <td>806599.000000</td>\n",
       "    </tr>\n",
       "  </tbody>\n",
       "</table>\n",
       "</div>"
      ],
      "text/plain": [
       "              year  selling_price      km_driven\n",
       "count  4340.000000   4.340000e+03    4340.000000\n",
       "mean   2013.090783   5.041273e+05   66215.777419\n",
       "std       4.215344   5.785487e+05   46644.102194\n",
       "min    1992.000000   2.000000e+04       1.000000\n",
       "25%    2011.000000   2.087498e+05   35000.000000\n",
       "50%    2014.000000   3.500000e+05   60000.000000\n",
       "75%    2016.000000   6.000000e+05   90000.000000\n",
       "max    2020.000000   8.900000e+06  806599.000000"
      ]
     },
     "execution_count": 14,
     "metadata": {},
     "output_type": "execute_result"
    }
   ],
   "source": [
    "# Descripción de los datos\n",
    "Datos.describe()"
   ]
  },
  {
   "cell_type": "code",
   "execution_count": 23,
   "id": "baede956-0564-4679-9fe4-cd0a8fdac7c4",
   "metadata": {},
   "outputs": [
    {
     "data": {
      "image/png": "[encoded data removed]",
      "text/plain": [
       "<Figure size 1200x600 with 3 Axes>"
      ]
     },
     "metadata": {},
     "output_type": "display_data"
    }
   ],
   "source": [
    "# Identificar las columnas numéricas que podrían tener valores atípicos\n",
    "columnas_numericas = ['selling_price', 'year', 'km_driven']\n",
    "\n",
    "# Boxplot para visualizar los valores atípicos\n",
    "plt.figure(figsize=(12, 6))\n",
    "for i, columna in enumerate(columnas_numericas, 1):\n",
    "    plt.subplot(1, 3, i)\n",
    "    sns.boxplot(x=Datos[columna])\n",
    "    plt.title(f'Boxplot de {columna}')\n",
    "\n",
    "plt.tight_layout()\n",
    "plt.show()"
   ]
  },
  {
   "cell_type": "markdown",
   "id": "16cdf277-9a1e-452f-9521-87c8bad95d10",
   "metadata": {},
   "source": [
    "# 2. Preprocesar los datos limpiándolos, tratando valores faltantes y transformándolos según sea necesario"
   ]
  },
  {
   "cell_type": "code",
   "execution_count": 19,
   "id": "d36c92fb-66a9-413a-9def-0a317dc6a973",
   "metadata": {},
   "outputs": [
    {
     "name": "stdout",
     "output_type": "stream",
     "text": [
      "Cantidad de Registros con cero en precio de venta (selling_price):  0\n",
      "Cantidad de Registros con cero en Año (year) :  0\n",
      "Cantidad de Registros con cero en kilometros (km_driven)  0\n"
     ]
    }
   ],
   "source": [
    "#Revisión de datos faltantes\n",
    "\n",
    "print(\"Cantidad de Registros con cero en precio de venta (selling_price): \",Datos['selling_price'].isin([0]).sum())\n",
    "print(\"Cantidad de Registros con cero en Año (year) : \",Datos['year'].isin([0]).sum())\n",
    "print(\"Cantidad de Registros con cero en kilometros (km_driven) \",Datos['km_driven'].isin([0]).sum())"
   ]
  },
  {
   "cell_type": "code",
   "execution_count": 26,
   "id": "bec2d3a7-f722-4721-ae76-79798d691e8f",
   "metadata": {},
   "outputs": [
    {
     "name": "stdout",
     "output_type": "stream",
     "text": [
      "Valores atípicos en selling_price:\n",
      "    selling_price\n",
      "12        1650000\n",
      "25        1650000\n",
      "27        1195000\n",
      "29        1964999\n",
      "30        1425000\n",
      "Cantidad de valores atípicos en selling_price: 271\n",
      "\n",
      "Valores atípicos en year:\n",
      "     year\n",
      "61   1996\n",
      "137  1998\n",
      "141  2003\n",
      "149  2002\n",
      "187  2003\n",
      "Cantidad de valores atípicos en year: 105\n",
      "\n",
      "Valores atípicos en km_driven:\n",
      "     km_driven\n",
      "32      175900\n",
      "69      350000\n",
      "70      230000\n",
      "159     175000\n",
      "197     230000\n",
      "Cantidad de valores atípicos en km_driven: 110\n",
      "\n"
     ]
    }
   ],
   "source": [
    "# Calcular los percentiles y el rango intercuartílico (IQR)\n",
    "for columna in columnas_numericas:\n",
    "    Q1 = Datos[columna].quantile(0.25)\n",
    "    Q3 = Datos[columna].quantile(0.75)\n",
    "    IQR = Q3 - Q1\n",
    "    limite_inferior = Q1 - 1.5 * IQR\n",
    "    limite_superior = Q3 + 1.5 * IQR\n",
    "    \n",
    "    # Identificar los valores atípicos\n",
    "    outliers = Datos[(Datos[columna] < limite_inferior) | (Datos[columna] > limite_superior)]\n",
    "    \n",
    "    print(f\"Valores atípicos en {columna}:\")\n",
    "    print(outliers[[columna]].head())  # Mostrar los primeros valores atípicos\n",
    "    print(f\"Cantidad de valores atípicos en {columna}: {len(outliers)}\\n\")"
   ]
  },
  {
   "cell_type": "code",
   "execution_count": 32,
   "id": "8c1173cc-a227-411d-8152-4d76d7e3be83",
   "metadata": {},
   "outputs": [
    {
     "name": "stdout",
     "output_type": "stream",
     "text": [
      "Filas restantes después de eliminar los valores atípicos: 3858\n"
     ]
    }
   ],
   "source": [
    "# Calcular los percentiles y el rango intercuartílico (IQR) y eliminar los valores atípicos\n",
    "for columna in columnas_numericas:\n",
    "    Q1 = Datos[columna].quantile(0.25)\n",
    "    Q3 = Datos[columna].quantile(0.75)\n",
    "    IQR = Q3 - Q1\n",
    "    limite_inferior = Q1 - 1.5 * IQR\n",
    "    limite_superior = Q3 + 1.5 * IQR\n",
    "    \n",
    "    # Filtrar los datos para mantener solo los valores dentro del rango permitido\n",
    "    Datos = Datos[(Datos[columna] >= limite_inferior) & (Datos[columna] <= limite_superior)]\n",
    "\n",
    "# Ver cuántas filas hay después de eliminar los valores atípicos\n",
    "print(f\"Filas restantes después de eliminar los valores atípicos: {len(Datos)}\")"
   ]
  },
  {
   "cell_type": "code",
   "execution_count": 34,
   "id": "93f042e3-bf7f-460d-aff0-2ffe1ae15a99",
   "metadata": {},
   "outputs": [
    {
     "name": "stdout",
     "output_type": "stream",
     "text": [
      "<class 'pandas.core.frame.DataFrame'>\n",
      "Index: 3858 entries, 0 to 4339\n",
      "Data columns (total 8 columns):\n",
      " #   Column         Non-Null Count  Dtype \n",
      "---  ------         --------------  ----- \n",
      " 0   name           3858 non-null   object\n",
      " 1   year           3858 non-null   int64 \n",
      " 2   selling_price  3858 non-null   int64 \n",
      " 3   km_driven      3858 non-null   int64 \n",
      " 4   fuel           3858 non-null   object\n",
      " 5   seller_type    3858 non-null   object\n",
      " 6   transmission   3858 non-null   object\n",
      " 7   owner          3858 non-null   object\n",
      "dtypes: int64(3), object(5)\n",
      "memory usage: 271.3+ KB\n"
     ]
    }
   ],
   "source": [
    "#Revisión del tipo de datos y datos faltantes\n",
    "\n",
    "Datos.info()"
   ]
  },
  {
   "cell_type": "markdown",
   "id": "340aed5b-9af5-4912-92b4-4b861e7bccc0",
   "metadata": {},
   "source": [
    "## 3.Seleccionar las características más relevantes para entrenar el modelo utilizando selección de características"
   ]
  },
  {
   "cell_type": "code",
   "execution_count": 45,
   "id": "48288305-bf8a-4ba2-a082-669e62156faa",
   "metadata": {},
   "outputs": [
    {
     "data": {
      "image/png": "[encoded data removed]",
      "text/plain": [
       "<Figure size 1200x800 with 2 Axes>"
      ]
     },
     "metadata": {},
     "output_type": "display_data"
    }
   ],
   "source": [
    "# Seleccionar solo las columnas numéricas\n",
    "columnas_numericas = Datos.select_dtypes(include=['float64', 'int64'])\n",
    "\n",
    "# Calcular la matriz de correlación solo para las columnas numéricas\n",
    "correlacion = columnas_numericas.corr()\n",
    "\n",
    "# Visualizar la matriz de correlación\n",
    "plt.figure(figsize=(12, 8))\n",
    "sns.heatmap(correlacion, annot=True, cmap=\"coolwarm\", fmt=\".2f\", linewidths=0.5)\n",
    "plt.title('Matriz de Correlación')\n",
    "plt.show()"
   ]
  },
  {
   "cell_type": "code",
   "execution_count": 47,
   "id": "27123b9f-7e81-4ba1-adbe-522e126a260b",
   "metadata": {},
   "outputs": [
    {
     "name": "stdout",
     "output_type": "stream",
     "text": [
      "                                            Feature        Score\n",
      "0                                              year  2578.820491\n",
      "1318                                    fuel_Diesel   480.408224\n",
      "1321                                    fuel_Petrol   413.206528\n",
      "1                                         km_driven   331.766219\n",
      "1322                         seller_type_Individual   187.855707\n",
      "...                                             ...          ...\n",
      "1181          name_Tata Tiago 1.05 Revotorq XZ Plus     0.000016\n",
      "1200                name_Tata Zest Quadrajet 1.3 XM     0.000016\n",
      "149   name_Ford Endeavour Hurricane Limited Edition     0.000016\n",
      "222                       name_Honda Amaze S Diesel     0.000016\n",
      "668                           name_Mahindra Xylo E6     0.000016\n",
      "\n",
      "[1329 rows x 2 columns]\n"
     ]
    }
   ],
   "source": [
    "# Definir la variable dependiente (y) y las variables independientes (X)\n",
    "X = Datos.drop('selling_price', axis=1)  # Eliminar la columna 'selling_price' de X\n",
    "y = Datos['selling_price']  # Variable dependiente\n",
    "\n",
    "# Convertir las variables categóricas en variables numéricas (usaremos One-Hot Encoding)\n",
    "X = pd.get_dummies(X, drop_first=True)\n",
    "\n",
    "# Aplicar SelectKBest para seleccionar las características más relevantes\n",
    "selector = SelectKBest(score_func=f_regression, k='all')  # 'all' para ver todas las puntuaciones\n",
    "selector.fit(X, y)\n",
    "\n",
    "# Mostrar las puntuaciones de las características\n",
    "scores = pd.DataFrame({\n",
    "    'Feature': X.columns,\n",
    "    'Score': selector.scores_\n",
    "}).sort_values(by='Score', ascending=False)\n",
    "\n",
    "print(scores)"
   ]
  },
  {
   "cell_type": "markdown",
   "id": "aa4e9243-320f-4e7d-9fa2-abdfd516f697",
   "metadata": {},
   "source": [
    "# 4. Dividir el dataset en Train y Test para evaluar correctamente el modelo"
   ]
  },
  {
   "cell_type": "code",
   "execution_count": 52,
   "id": "e5a251e7-f0c0-4e60-a940-fb82698a355a",
   "metadata": {},
   "outputs": [
    {
     "name": "stdout",
     "output_type": "stream",
     "text": [
      "Tamaño del conjunto de entrenamiento: 2893\n",
      "Tamaño del conjunto de prueba: 965\n"
     ]
    }
   ],
   "source": [
    "# Definir la variable dependiente (y) y las variables independientes (X)\n",
    "X = Datos.drop('selling_price', axis=1)  # Eliminar la columna 'selling_price' de X\n",
    "y = Datos['selling_price']  # Variable dependiente\n",
    "\n",
    "# Convertir las variables categóricas en variables numéricas (usaremos One-Hot Encoding)\n",
    "X = pd.get_dummies(X, drop_first=True)\n",
    "\n",
    "# Dividir el dataset en 75% entrenamiento y 25% prueba\n",
    "X_train, X_test, y_train, y_test = train_test_split(X, y, test_size=0.25, random_state=42)\n",
    "\n",
    "# Ver el tamaño de los conjuntos\n",
    "print(f\"Tamaño del conjunto de entrenamiento: {X_train.shape[0]}\")\n",
    "print(f\"Tamaño del conjunto de prueba: {X_test.shape[0]}\")"
   ]
  },
  {
   "cell_type": "markdown",
   "id": "d9e93a51-aa0b-4c55-8b79-9a06e210e82b",
   "metadata": {},
   "source": [
    "## 5. Entrenar el modelo configurando los diferentes hiperparámetros"
   ]
  },
  {
   "cell_type": "code",
   "execution_count": 60,
   "id": "c847c91b-afa0-48db-93dd-8f97d29af3f2",
   "metadata": {},
   "outputs": [
    {
     "name": "stdout",
     "output_type": "stream",
     "text": [
      "Coeficientes del modelo: [ 2.69763101e+04 -5.98274924e-01 -9.01254940e+10 ... -1.39485357e+04\n",
      "  9.25935989e+04 -2.23934479e+04]\n",
      "Intersección (bias): -541748963832.9693\n"
     ]
    }
   ],
   "source": [
    "# Crear una instancia del modelo de regresión lineal\n",
    "modelo = LinearRegression()\n",
    "\n",
    "# Entrenar el modelo con los datos de entrenamiento\n",
    "modelo.fit(X_train, y_train)\n",
    "\n",
    "# Ver los coeficientes del modelo\n",
    "print(f\"Coeficientes del modelo: {modelo.coef_}\")\n",
    "print(f\"Intersección (bias): {modelo.intercept_}\")"
   ]
  },
  {
   "cell_type": "markdown",
   "id": "e30cc394-6a8f-4d8f-bd9d-99c05edfe0c3",
   "metadata": {},
   "source": [
    "## 6. Evaluar el desempeño del modelo en el conjunto de Test"
   ]
  },
  {
   "cell_type": "code",
   "execution_count": 72,
   "id": "7b910110-4797-4798-a5a7-158fb750e212",
   "metadata": {},
   "outputs": [
    {
     "name": "stdout",
     "output_type": "stream",
     "text": [
      "Mean Absolute Error (MAE): 11807600199.028145\n",
      "Mean Squared Error (MSE): 1.7314401544847308e+21\n",
      "Root Mean Squared Error (RMSE): 41610577435.127365\n",
      "R²: -28820197697.227573\n"
     ]
    }
   ],
   "source": [
    "# Hacer predicciones con el conjunto de prueba\n",
    "y_pred = modelo.predict(X_test)\n",
    "\n",
    "# Calcular las métricas de evaluación\n",
    "mae = mean_absolute_error(y_test, y_pred)\n",
    "mse = mean_squared_error(y_test, y_pred)\n",
    "rmse = np.sqrt(mse)  # Calcular RMSE manualmente\n",
    "r2 = r2_score(y_test, y_pred)\n",
    "\n",
    "# Mostrar las métricas\n",
    "print(f\"Mean Absolute Error (MAE): {mae}\")\n",
    "print(f\"Mean Squared Error (MSE): {mse}\")\n",
    "print(f\"Root Mean Squared Error (RMSE): {rmse}\")\n",
    "print(f\"R²: {r2}\")"
   ]
  },
  {
   "cell_type": "markdown",
   "id": "e96dcd07-2234-47f8-b8f3-dac09617366a",
   "metadata": {},
   "source": [
    "## 7. Realizar las diferentes gráficas que permitan visualizar los resultados del modelo"
   ]
  },
  {
   "cell_type": "code",
   "execution_count": 76,
   "id": "2abb32a6-e171-4413-b007-c98dec34a378",
   "metadata": {},
   "outputs": [
    {
     "data": {
      "image/png": "[encoded data removed]",
      "text/plain": [
       "<Figure size 800x600 with 1 Axes>"
      ]
     },
     "metadata": {},
     "output_type": "display_data"
    },
    {
     "data": {
      "image/png": "[encoded data removed]",
      "text/plain": [
       "<Figure size 800x600 with 1 Axes>"
      ]
     },
     "metadata": {},
     "output_type": "display_data"
    }
   ],
   "source": [
    "# Gráfico de dispersión: Predicciones vs. Valores reales\n",
    "plt.figure(figsize=(8, 6))\n",
    "plt.scatter(y_test, y_pred, color='blue', alpha=0.5)\n",
    "plt.plot([min(y_test), max(y_test)], [min(y_test), max(y_test)], color='red', linestyle='--')  # Línea de identidad\n",
    "plt.title(\"Predicciones vs. Valores Reales\")\n",
    "plt.xlabel(\"Valores Reales\")\n",
    "plt.ylabel(\"Predicciones\")\n",
    "plt.show()\n",
    "\n",
    "# Gráfico de residuos: Diferencia entre predicciones y valores reales\n",
    "residuos = y_test - y_pred\n",
    "plt.figure(figsize=(8, 6))\n",
    "plt.scatter(y_pred, residuos, color='green', alpha=0.5)\n",
    "plt.axhline(y=0, color='red', linestyle='--')\n",
    "plt.title(\"Residuos vs. Predicciones\")\n",
    "plt.xlabel(\"Predicciones\")\n",
    "plt.ylabel(\"Residuos\")\n",
    "plt.show()"
   ]
  },
  {
   "cell_type": "markdown",
   "id": "4627c61f-3411-451c-9961-9cad16469d1f",
   "metadata": {},
   "source": [
    "## 8. Interpretar, analizar y documentar los resultados obtenidos"
   ]
  },
  {
   "cell_type": "markdown",
   "id": "d0c6192b-55c8-4614-bca9-29e3c2b2f3fb",
   "metadata": {},
   "source": [
    "R² (R-cuadrado): Mide qué tan bien las predicciones coinciden con los valores reales. Un valor cercano a 1 indica que el modelo explica bien la variabilidad de los datos.\n",
    "\n",
    "MAE, MSE, RMSE: Nos dan una idea de cuán precisas son nuestras predicciones. Un RMSE bajo indica que el modelo tiene un buen ajuste a los datos.\n",
    "\n",
    "Gráficos: Los gráficos nos permiten verificar visualmente la calidad del modelo:\n",
    "\n",
    "Si los puntos en el gráfico de dispersión están cerca de la línea roja, el modelo está haciendo buenas predicciones.\n",
    "\n",
    "En el gráfico de residuos, si los puntos están distribuidos aleatoriamente alrededor de cero, eso sugiere que el modelo no tiene sesgo sistemático.\n",
    "\n",
    "Coeficientes del modelo: Los coeficientes del modelo indican la relación entre las características y el precio de venta. Por ejemplo, si el coeficiente de year es positivo, eso indica que, en promedio, los autos más nuevos tienen un precio más alto."
   ]
  },
  {
   "cell_type": "code",
   "execution_count": null,
   "id": "1eeac743-88ec-4940-a190-e709cd608315",
   "metadata": {},
   "outputs": [],
   "source": []
  }
 ],
 "metadata": {
  "kernelspec": {
   "display_name": "Python [conda env:base] *",
   "language": "python",
   "name": "conda-base-py"
  },
  "language_info": {
   "codemirror_mode": {
    "name": "ipython",
    "version": 3
   },
   "file_extension": ".py",
   "mimetype": "text/x-python",
   "name": "python",
   "nbconvert_exporter": "python",
   "pygments_lexer": "ipython3",
   "version": "3.12.7"
  }
 },
 "nbformat": 4,
 "nbformat_minor": 5
}
